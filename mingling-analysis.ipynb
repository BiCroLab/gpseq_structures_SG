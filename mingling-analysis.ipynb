{
 "cells": [
  {
   "cell_type": "code",
   "execution_count": 6,
   "metadata": {},
   "outputs": [],
   "source": [
    "import os\n",
    "import csv\n",
    "import numpy as np\n",
    "import matplotlib.pyplot as plt\n",
    "import seaborn as sns; sns.set()\n",
    "\n",
    "import random\n",
    "import sys \n",
    "\n",
    "import tensorly as tl\n",
    "from tensorly.decomposition import non_negative_parafac\n",
    "import scipy.sparse"
   ]
  },
  {
   "cell_type": "code",
   "execution_count": 7,
   "metadata": {},
   "outputs": [],
   "source": [
    "def Qmat(S,configuration,path):\n",
    "    dirname = os.fsdecode(configuration)\n",
    "    filename = os.path.join(path, dirname+'/coords.csv_sparse_graph.npz')\n",
    "    if os.path.isfile(filename): \n",
    "        A = scipy.sparse.load_npz(filename)\n",
    "        '''construct modularity matrix'''\n",
    "        M = A\n",
    "        k = A.sum(axis=0)\n",
    "        w = A.sum(axis=None)\n",
    "        M = A - np.outer(k,k)*0.5/w\n",
    "        output = M.shape[0]*M.shape[1]*np.trace(np.dot(np.dot(S.transpose(),M),S))/(2.0*w) #rescale by network size\n",
    "    else:\n",
    "        output = np.zeros(shape=(3043,3043))\n",
    "    return output\n",
    "\n",
    "def sample_modularity(S,cf_samples,path):\n",
    "    modularity_values = []\n",
    "    for configuration in cf_samples:\n",
    "            modularity_values.append(Qmat(S,configuration,path))  \n",
    "    return modularity_values\n",
    "\n",
    "def random_community(Sp,configuration,path):\n",
    "    np.random.shuffle(Sp)\n",
    "    return Qmat(Sp,configuration,path)\n",
    "\n",
    "def membership(factors):\n",
    "    S = np.zeros(shape=factors[1][1].shape)\n",
    "    for c in range(S.shape[1]):\n",
    "        vec = 0.5*(factors[1][1][:,c]+factors[1][2][:,c]) # take the average of the 2 factors, that should be identical\n",
    "        S[:,c] = vec/tl.norm(vec,1) #normalize membership\n",
    "    Sp = np.copy(S) # this copy can be used for significance testing\n",
    "    return S,Sp"
   ]
  },
  {
   "cell_type": "code",
   "execution_count": 38,
   "metadata": {},
   "outputs": [],
   "source": [
    "import pickle as pkl\n",
    "\n",
    "samples = 1000\n",
    "rank = 20 \n",
    "# comm = 20 \n",
    "ind = 1\n",
    "factor_list = []\n",
    "path = '/media/garner1/hdd1/gpseq/10000G'\n",
    "\n",
    "fileName = '/media/garner1/hdd1/gpseq/info_10000G/nnparafac' + '_rank' + str(rank) + '_sample' + str(ind) + '_size' + str(samples) + '.pkl'\n",
    "fileObject = open(fileName, 'rb')\n",
    "factors = pkl.load(fileObject)\n",
    "fileObject.close()\n",
    "\n",
    "fileName = '/media/garner1/hdd1/gpseq/info_10000G/cf-sampled' + '_rank' + str(rank) + '_sample' + str(ind) + '_size' + str(samples) + '.pkl'\n",
    "fileObject = open(fileName, 'rb')\n",
    "config_sample = pkl.load(fileObject)\n",
    "fileObject.close()\n"
   ]
  },
  {
   "cell_type": "code",
   "execution_count": 39,
   "metadata": {},
   "outputs": [],
   "source": [
    "S, Sp = membership(factors)\n",
    "# with open('gpseq_rank25_samples100.pkl', 'wb') as f:\n",
    "#     pkl.dump(S, f)\n",
    "\n",
    "# np.savetxt(\"gpseq_rank20_samples1000.csv\", S, delimiter=\",\")\n",
    "# np.savetxt(\"hic_rank20_samples1000.csv\", S, delimiter=\",\")"
   ]
  },
  {
   "cell_type": "code",
   "execution_count": 121,
   "metadata": {},
   "outputs": [],
   "source": [
    "def sortmembership(coordfile,S,comm):\n",
    "    with open('/media/garner1/hdd1/gpseq/10000G/cf_000001/coords.csv', newline='') as csvfile:\n",
    "        xyz = np.asfarray(list(csv.reader(csvfile)),float)[:,:3]\n",
    "\n",
    "    listPairs = []\n",
    "    listMem = []\n",
    "    listMemProxy = []\n",
    "    listEuc = []\n",
    "    N = xyz.shape[0]\n",
    "    for bead1 in range(N-1):\n",
    "        for bead2 in range(bead1+1,N):\n",
    "            b1=xyz[bead1,:]\n",
    "            b2=xyz[bead2,:]\n",
    "            m1=S[bead1,comm]\n",
    "            m2=S[bead2,comm]\n",
    "            if m1*m2>0 and m1>1.0e-6 and m2>1.0e-6:\n",
    "                d = np.linalg.norm(b1-b2)\n",
    "                listMemProxy.append((m1+m2)/d) # this is the membership proximity\n",
    "                listEuc.append(d)\n",
    "                listMem.append((m1,m2)) # euclidean dist minus the ave membership of the 2 loci\n",
    "                listPairs.append((bead1,bead2))\n",
    "    lista=list(zip(listPairs,listMemProxy,listMem,listEuc))\n",
    "    return sorted(lista,key=lambda x: -x[1])"
   ]
  },
  {
   "cell_type": "code",
   "execution_count": 154,
   "metadata": {},
   "outputs": [],
   "source": [
    "from os import walk\n",
    "\n",
    "f = []\n",
    "for (dirpath, dirnames, filenames) in walk('/media/garner1/hdd1/gpseq/10000G'):\n",
    "    for dirname in dirnames:\n",
    "        if dirname.startswith('cf_'):\n",
    "#             print(os.path.join(dirpath,dirname,'coords.csv'))\n",
    "            f.append(os.path.join(dirpath,dirname,'coords.csv'))\n",
    "#         break"
   ]
  },
  {
   "cell_type": "code",
   "execution_count": 121,
   "metadata": {},
   "outputs": [],
   "source": [
    "def sortmembership(coordfile,S,comm):\n",
    "    with open('/media/garner1/hdd1/gpseq/10000G/cf_000001/coords.csv', newline='') as csvfile:\n",
    "        xyz = np.asfarray(list(csv.reader(csvfile)),float)[:,:3]\n",
    "\n",
    "    listPairs = []\n",
    "    listMem = []\n",
    "    listMemProxy = []\n",
    "    listEuc = []\n",
    "    N = xyz.shape[0]\n",
    "    for bead1 in range(N-1):\n",
    "        for bead2 in range(bead1+1,N):\n",
    "            b1=xyz[bead1,:]\n",
    "            b2=xyz[bead2,:]\n",
    "            m1=S[bead1,comm]\n",
    "            m2=S[bead2,comm]\n",
    "            if m1*m2>0 and m1>1.0e-6 and m2>1.0e-6:\n",
    "                d = np.linalg.norm(b1-b2)\n",
    "                listMemProxy.append((m1+m2)/d) # this is the membership proximity\n",
    "                listEuc.append(d)\n",
    "                listMem.append((m1,m2)) # euclidean dist minus the ave membership of the 2 loci\n",
    "                listPairs.append((bead1,bead2))\n",
    "    lista=list(zip(listPairs,listMemProxy,listMem,listEuc))\n",
    "    return sorted(lista,key=lambda x: -x[1])"
   ]
  },
  {
   "cell_type": "code",
   "execution_count": 345,
   "metadata": {},
   "outputs": [],
   "source": [
    "def membership_array(path,S,comm,samples):\n",
    "    \n",
    "    listPairs = []\n",
    "    listaMem1=[];listaMem2=[]\n",
    "    N = S.shape[0]\n",
    "    for bead1 in range(N-1):\n",
    "        for bead2 in range(bead1+1,N):\n",
    "            m1=S[bead1,comm]\n",
    "            m2=S[bead2,comm]\n",
    "            if m1*m2>0 and m1>1.0e-6 and m2>1.0e-6:\n",
    "                listPairs.append((bead1,bead2))\n",
    "                listMem1.append(m1)\n",
    "                listMem2.append(m2)\n",
    "                \n",
    "    listaProxy=[];listaD=[]\n",
    "    f = []\n",
    "    for (dirpath, dirnames, filenames) in walk(path):\n",
    "        for dirname in dirnames:\n",
    "            if dirname.startswith('cf_'):\n",
    "                f.append(os.path.join(dirpath,dirname,'coords.csv'))\n",
    "\n",
    "    for coordfile in f[:samples]:\n",
    "        listMemProxy=[];listd=[]\n",
    "        with open(coordfile, newline='') as csvfile:\n",
    "                xyz = np.asfarray(list(csv.reader(csvfile)),float)[:,:3]\n",
    "        for pair in listPairs:\n",
    "\n",
    "            bead1=pair[0]; bead2=pair[1]\n",
    "            b1=xyz[bead1,:]\n",
    "            b2=xyz[bead2,:]\n",
    "            m1=S[bead1,comm]\n",
    "            m2=S[bead2,comm]\n",
    "            d = np.linalg.norm(b1-b2)\n",
    "            listMemProxy.append((m1+m2)/d) # this is the membership proximity\n",
    "            listd.append(d)\n",
    "            \n",
    "        listaProxy.append(listMemProxy)\n",
    "        listaD.append(listd)\n",
    "    return list(zip(*listaProxy)), listaMem1, listaMem2, list(zip(*listaD)), listPairs"
   ]
  },
  {
   "cell_type": "markdown",
   "metadata": {},
   "source": [
    "For a given community identify the multi-pairs with strong enough mean membership, distant enough on the linear genome, and close enough in real space"
   ]
  },
  {
   "cell_type": "code",
   "execution_count": 337,
   "metadata": {},
   "outputs": [
    {
     "name": "stdout",
     "output_type": "stream",
     "text": [
      "60.980403661727905\n"
     ]
    }
   ],
   "source": [
    "import time\n",
    "\n",
    "start = time.time()\n",
    "\n",
    "list1, list2, list3, list4, list5  = membership_array('/media/garner1/hdd1/gpseq/10000G',S,comm=5,samples=10)\n",
    "\n",
    "arr1=np.asarray(list1) # paired membership weighted by 3d distance\n",
    "arr2=np.asarray(list2) # membership strength of the first bead\n",
    "arr3=np.asarray(list3) # membership strength of the second bead\n",
    "arr4=np.asarray(list4) # euclidean distances\n",
    "arr5=np.asarray(list5) # list of pairs\n",
    "\n",
    "end = time.time()\n",
    "print(end - start)"
   ]
  },
  {
   "cell_type": "code",
   "execution_count": 347,
   "metadata": {},
   "outputs": [
    {
     "name": "stdout",
     "output_type": "stream",
     "text": [
      "2\n"
     ]
    }
   ],
   "source": [
    "# top = np.mean(arr1,axis=1).argsort()[-3000:][::-1] # top N values\n",
    "mytop=[t for t in range(arr5.shape[0]) if abs(arr5[t][0]-arr5[t][1])>100 and np.mean(arr4[t,:])<0.3 and np.mean(0.5*(arr2[t,:]+arr3[t,:]))>0.002]\n",
    "print(len(mytop))"
   ]
  },
  {
   "cell_type": "code",
   "execution_count": 348,
   "metadata": {},
   "outputs": [
    {
     "data": {
      "text/plain": [
       "<matplotlib.legend.Legend at 0x7f36293a04a8>"
      ]
     },
     "execution_count": 348,
     "metadata": {},
     "output_type": "execute_result"
    },
    {
     "data": {
      "image/png": "[encoded data removed]",
      "text/plain": [
       "<Figure size 720x720 with 1 Axes>"
      ]
     },
     "metadata": {},
     "output_type": "display_data"
    }
   ],
   "source": [
    "sns.set(rc={'figure.figsize':(10,10)})\n",
    "# labels = [str(row) for row in top]\n",
    "fig, ax = plt.subplots()\n",
    "for row in mytop:\n",
    "    sns.distplot(arr4[row,:], kde=False,norm_hist=True,label=str(arr5[row]))\n",
    "    \n",
    "plt.legend()\n",
    "# plt.title('HiC+GPSeq only with model significance '+str(np.round((mu_test-mu_null)/(sigma_test+sigma_null))))\n",
    "# print('z-score is: '+str((ref-mu)/sigma))  # z-score for a random S as the null model"
   ]
  },
  {
   "cell_type": "code",
   "execution_count": 346,
   "metadata": {},
   "outputs": [
    {
     "data": {
      "text/plain": [
       "<matplotlib.legend.Legend at 0x7f3642e4ac18>"
      ]
     },
     "execution_count": 346,
     "metadata": {},
     "output_type": "execute_result"
    },
    {
     "data": {
      "image/png": "[encoded data removed]",
      "text/plain": [
       "<Figure size 720x720 with 1 Axes>"
      ]
     },
     "metadata": {},
     "output_type": "display_data"
    }
   ],
   "source": [
    "sns.set(rc={'figure.figsize':(10,10)})\n",
    "# labels = [str(row) for row in top]\n",
    "fig, ax = plt.subplots()\n",
    "sns.distplot(arr2[:,0], kde=False,norm_hist=True,label=str(arr5[row]))\n",
    "    \n",
    "plt.legend()\n",
    "# plt.title('HiC+GPSeq only with model significance '+str(np.round((mu_test-mu_null)/(sigma_test+sigma_null))))\n",
    "# print('z-score is: '+str((ref-mu)/sigma))  # z-score for a random S as the null model"
   ]
  },
  {
   "cell_type": "code",
   "execution_count": 344,
   "metadata": {},
   "outputs": [
    {
     "data": {
      "text/plain": [
       "array([3.002208e-05, 3.002208e-05, 3.002208e-05, 3.002208e-05,\n",
       "       3.002208e-05, 3.002208e-05, 3.002208e-05, 3.002208e-05,\n",
       "       3.002208e-05, 3.002208e-05])"
      ]
     },
     "execution_count": 344,
     "metadata": {},
     "output_type": "execute_result"
    }
   ],
   "source": [
    "arr2[1,:]"
   ]
  }
 ],
 "metadata": {
  "kernelspec": {
   "display_name": "Python 3",
   "language": "python",
   "name": "python3"
  },
  "language_info": {
   "codemirror_mode": {
    "name": "ipython",
    "version": 3
   },
   "file_extension": ".py",
   "mimetype": "text/x-python",
   "name": "python",
   "nbconvert_exporter": "python",
   "pygments_lexer": "ipython3",
   "version": "3.7.3"
  }
 },
 "nbformat": 4,
 "nbformat_minor": 2
}
