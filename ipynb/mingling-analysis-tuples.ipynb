{
 "cells": [
  {
   "cell_type": "code",
   "execution_count": 1,
   "metadata": {},
   "outputs": [],
   "source": [
    "import os\n",
    "import csv\n",
    "import numpy as np\n",
    "import matplotlib.pyplot as plt\n",
    "import seaborn as sns; sns.set()\n",
    "\n",
    "import random\n",
    "import sys \n",
    "\n",
    "import tensorly as tl\n",
    "from tensorly.decomposition import non_negative_parafac\n",
    "import scipy.sparse"
   ]
  },
  {
   "cell_type": "code",
   "execution_count": 2,
   "metadata": {},
   "outputs": [],
   "source": [
    "def Qmat(S,configuration,path):\n",
    "    dirname = os.fsdecode(configuration)\n",
    "    filename = os.path.join(path, dirname+'/coords.csv_sparse_graph.npz')\n",
    "    if os.path.isfile(filename): \n",
    "        A = scipy.sparse.load_npz(filename)\n",
    "        '''construct modularity matrix'''\n",
    "        M = A\n",
    "        k = A.sum(axis=0)\n",
    "        w = A.sum(axis=None)\n",
    "        M = A - np.outer(k,k)*0.5/w\n",
    "        output = M.shape[0]*M.shape[1]*np.trace(np.dot(np.dot(S.transpose(),M),S))/(2.0*w) #rescale by network size\n",
    "    else:\n",
    "        output = np.zeros(shape=(3043,3043))\n",
    "    return output\n",
    "\n",
    "def sample_modularity(S,cf_samples,path):\n",
    "    modularity_values = []\n",
    "    for configuration in cf_samples:\n",
    "            modularity_values.append(Qmat(S,configuration,path))  \n",
    "    return modularity_values\n",
    "\n",
    "def random_community(Sp,configuration,path):\n",
    "    np.random.shuffle(Sp)\n",
    "    return Qmat(Sp,configuration,path)\n",
    "\n",
    "def membership(factors):\n",
    "    S = np.zeros(shape=factors[1][1].shape)\n",
    "    for c in range(S.shape[1]):\n",
    "        vec = 0.5*(factors[1][1][:,c]+factors[1][2][:,c]) # take the average of the 2 factors, that should be identical\n",
    "        S[:,c] = vec/tl.norm(vec,1) #normalize membership\n",
    "    Sp = np.copy(S) # this copy can be used for significance testing\n",
    "    return S,Sp"
   ]
  },
  {
   "cell_type": "code",
   "execution_count": 3,
   "metadata": {},
   "outputs": [],
   "source": [
    "def membership_array(path,S,comm,samples,thresh): #gives pairs property for a given community on a sampled dataset\n",
    "    \n",
    "    listPairs = []\n",
    "    listaMem1=[];listaMem2=[]\n",
    "    N = S.shape[0]\n",
    "    for bead1 in range(N-1):\n",
    "        for bead2 in range(bead1+1,N):\n",
    "            m1=S[bead1,comm]\n",
    "            m2=S[bead2,comm]\n",
    "            if m1*m2>0 and m1>thresh and m2>thresh: #set threshold on membership\n",
    "                listPairs.append((bead1,bead2))\n",
    "                listaMem1.append(m1)\n",
    "                listaMem2.append(m2)\n",
    "                \n",
    "    listaD=[]\n",
    "    f = []\n",
    "    for (dirpath, dirnames, filenames) in os.walk(path):\n",
    "        for dirname in dirnames:\n",
    "            if dirname.startswith('cf_'):\n",
    "                f.append(os.path.join(dirpath,dirname,'coords.csv'))\n",
    "\n",
    "#     sample_list = random.sample(f,samples)\n",
    "    sample_list = f[:samples]\n",
    "    count = 0\n",
    "    for coordfile in sample_list:\n",
    "        count+=1\n",
    "        print('\\r', 'Iteration', count, 'of', str(samples),end='')\n",
    "        \n",
    "        listd=[]\n",
    "        with open(coordfile, newline='') as csvfile:\n",
    "                xyz = np.asfarray(list(csv.reader(csvfile)),float)[:,:3]\n",
    "        for pair in listPairs:\n",
    "\n",
    "            bead1=pair[0]; bead2=pair[1]\n",
    "            b1=xyz[bead1,:]\n",
    "            b2=xyz[bead2,:]\n",
    "            m1=S[bead1,comm]\n",
    "            m2=S[bead2,comm]\n",
    "            d = np.linalg.norm(b1-b2)\n",
    "            listd.append(d)\n",
    "            \n",
    "        listaD.append(listd)\n",
    "    return listaMem1, listaMem2, list(zip(*listaD)), listPairs"
   ]
  },
  {
   "cell_type": "code",
   "execution_count": 4,
   "metadata": {},
   "outputs": [],
   "source": [
    "with open('chrs.csv', newline='') as csvfile:\n",
    "    chroms = list(csv.reader(csvfile,delimiter='\\t'))"
   ]
  },
  {
   "cell_type": "code",
   "execution_count": 5,
   "metadata": {},
   "outputs": [],
   "source": [
    "import pickle as pkl\n",
    "\n",
    "samples = 1000\n",
    "rank = 20 \n",
    "# comm = 20 \n",
    "ind = 1\n",
    "factor_list = []\n",
    "path = '/media/garner1/hdd1/gpseq/10000G'\n",
    "\n",
    "fileName = '/media/garner1/hdd1/gpseq/info_10000G/nnparafac' + '_rank' + str(rank) + '_sample' + str(ind) + '_size' + str(samples) + '.pkl'\n",
    "fileObject = open(fileName, 'rb')\n",
    "factors = pkl.load(fileObject)\n",
    "fileObject.close()\n",
    "\n",
    "fileName = '/media/garner1/hdd1/gpseq/info_10000G/cf-sampled' + '_rank' + str(rank) + '_sample' + str(ind) + '_size' + str(samples) + '.pkl'\n",
    "fileObject = open(fileName, 'rb')\n",
    "config_sample = pkl.load(fileObject)\n",
    "fileObject.close()\n"
   ]
  },
  {
   "cell_type": "code",
   "execution_count": 6,
   "metadata": {},
   "outputs": [],
   "source": [
    "S, Sp = membership(factors)\n",
    "# with open('gpseq_rank25_samples100.pkl', 'wb') as f:\n",
    "#     pkl.dump(S, f)\n",
    "\n",
    "# np.savetxt(\"gpseq_rank20_samples1000.csv\", S, delimiter=\",\")\n",
    "# np.savetxt(\"hic_rank20_samples1000.csv\", S, delimiter=\",\")"
   ]
  },
  {
   "cell_type": "markdown",
   "metadata": {},
   "source": [
    "For a given community identify the multi-pairs with strong enough mean membership, distant enough on the linear genome, and close enough in real space"
   ]
  },
  {
   "cell_type": "code",
   "execution_count": 9,
   "metadata": {},
   "outputs": [
    {
     "name": "stdout",
     "output_type": "stream",
     "text": [
      "0\n",
      " Iteration 100 of 100"
     ]
    }
   ],
   "source": [
    "import time\n",
    "import pandas as pd\n",
    "import plotly\n",
    "import plotly.graph_objects as go\n",
    "\n",
    "for comm in range(S.shape[1])[:1]:\n",
    "    print(comm)\n",
    "    list1, list2, list3, list4  = membership_array('/media/garner1/hdd1/gpseq/10000G',S,comm=comm,samples=100,thresh=2.5e-3)\n",
    "\n",
    "    arr1=np.asarray(list1) # membership strength of the first bead\n",
    "    arr2=np.asarray(list2) # membership strength of the second bead\n",
    "    arr3=np.asarray(list3) # euclidean distances (pairs X structure)\n",
    "    arr4=np.asarray(list4) # list of pairs\n",
    "\n",
    "    #     sns.distplot(arr3.flatten(), rug=False,hist=False,label=str(comm))\n",
    "    lista = [ (str(chroms[arr4[t][0]][0])+'.'+str(chroms[arr4[t][0]][1]),str(chroms[arr4[t][1]][0])+'.'+str(chroms[arr4[t][1]][1]),np.mean(arr3[t,:])) for t in range(arr1.shape[0]) if chroms[arr4[t][0]][0] != chroms[arr4[t][1]][0] ]\n",
    "    df1 = pd.DataFrame(lista, columns =['bead1', 'bead2', 'Score']) \n",
    "    df2 = pd.DataFrame(lista, columns =['bead2', 'bead1', 'Score']) \n",
    "    df = df1.append(df2,sort=True)\n",
    "    df.bead1 = pd.to_numeric(df.bead1, errors='coerce')\n",
    "    df.bead2 = pd.to_numeric(df.bead2, errors='coerce')\n",
    "    df.sort_values(['bead1','bead2'],ascending=[False, False],inplace=True)\n",
    "    data = df.pivot_table(index='bead1', columns='bead2', values='Score',fill_value=0)\n",
    "    fig = go.Figure(data=go.Heatmap(\n",
    "                       z=data.values,\n",
    "                       x=data.columns,\n",
    "                       y=data.index)\n",
    "                   )\n",
    "    fig.update_layout(\n",
    "        title='Community '+str(comm),\n",
    "        xaxis_title=\"bead#1 location on genome\",\n",
    "        yaxis_title=\"bead#2 location on genome\",\n",
    "        yaxis = dict(\n",
    "          scaleanchor = \"x\",\n",
    "          scaleratio = 1,)\n",
    "    )\n",
    "    axis_template = dict(range = [1,24], autorange = False,\n",
    "                 showgrid = False, zeroline = False,\n",
    "                 linecolor = 'black', showticklabels = True,\n",
    "                 ticks = '' )\n",
    "\n",
    "    fig.update_layout(\n",
    "#         margin = dict(t=200,r=200,b=200,l=200),\n",
    "        xaxis = axis_template,\n",
    "        yaxis = axis_template,\n",
    "        showlegend = False,\n",
    "        width = 1000, height = 1000,\n",
    "        autosize = True )\n",
    "    # fig.show()\n",
    "    plotly.offline.plot(fig, filename='10000G_community-'+str(comm)+'.html')"
   ]
  },
  {
   "cell_type": "code",
   "execution_count": 10,
   "metadata": {},
   "outputs": [
    {
     "data": {
      "text/plain": [
       "(11476, 11476)"
      ]
     },
     "execution_count": 10,
     "metadata": {},
     "output_type": "execute_result"
    }
   ],
   "source": [
    "mat = np.cov(arr3)\n",
    "mat.shape"
   ]
  },
  {
   "cell_type": "code",
   "execution_count": 32,
   "metadata": {},
   "outputs": [
    {
     "data": {
      "text/plain": [
       "(131, 131)"
      ]
     },
     "execution_count": 32,
     "metadata": {},
     "output_type": "execute_result"
    }
   ],
   "source": [
    "mat2 = np.where(mat > 0.15, mat, 0)\n",
    "# Get the integer indices of the rows that sum up to 3\n",
    "# and the columns that sum up to 3.\n",
    "bad_rows = np.nonzero(mat2.sum(axis=1) == 0)\n",
    "bad_cols = np.nonzero(mat2.sum(axis=0) == 0)\n",
    "\n",
    "# Now use the numpy.delete() function to get the matrix\n",
    "# with those rows and columns removed from the original matrix.\n",
    "P = np.delete(mat2, bad_rows, axis=0)\n",
    "P = np.delete(P, bad_cols, axis=1)\n",
    "P.shape"
   ]
  },
  {
   "cell_type": "code",
   "execution_count": 33,
   "metadata": {},
   "outputs": [
    {
     "data": {
      "text/plain": [
       "'corr.html'"
      ]
     },
     "execution_count": 33,
     "metadata": {},
     "output_type": "execute_result"
    }
   ],
   "source": [
    "fig = go.Figure(data=go.Heatmap(\n",
    "                       z=P,)\n",
    "                   )\n",
    "fig.update_layout(\n",
    "        title='Community '+str(comm),\n",
    "        xaxis_title=\"pair#1\",\n",
    "        yaxis_title=\"pair#2\",\n",
    "        yaxis = dict(\n",
    "          scaleanchor = \"x\",\n",
    "          scaleratio = 1,)\n",
    "    )\n",
    "axis_template = dict(autorange = True,\n",
    "             showgrid = False, zeroline = False,\n",
    "             linecolor = 'black', showticklabels = True,\n",
    "             ticks = '' )\n",
    "\n",
    "fig.update_layout(\n",
    "    xaxis = axis_template,\n",
    "    yaxis = axis_template,\n",
    "    showlegend = False,\n",
    "    width = 1000, height = 1000,\n",
    "    autosize = True )\n",
    "plotly.offline.plot(fig, filename='corr.html')   "
   ]
  },
  {
   "cell_type": "code",
   "execution_count": 35,
   "metadata": {},
   "outputs": [
    {
     "name": "stdout",
     "output_type": "stream",
     "text": [
      "573800\n"
     ]
    }
   ],
   "source": [
    "#[(chroms[arr4[t][0]],chroms[arr4[t][1]]) for t in range(2)]\n",
    "beads = np.unique(arr4.flatten())\n",
    "# A Python program to print all \n",
    "# combinations of given length \n",
    "from itertools import combinations \n",
    "\n",
    "# Get all combinations of [1, 2, 3] \n",
    "# and length 2 \n",
    "comb3s = combinations(beads, 3) \n",
    "comb3slist = list(comb3s)\n",
    "# Print the obtained combinations \n",
    "count = 0\n",
    "tuplesum = []\n",
    "N = len(comb3slist)\n",
    "print(N)"
   ]
  },
  {
   "cell_type": "code",
   "execution_count": 36,
   "metadata": {},
   "outputs": [
    {
     "name": "stdout",
     "output_type": "stream",
     "text": [
      "Iteration 376516 of 573800800of 573800 of 573800 573800of 573800573800573800 573800of 573800 5738005738004186 of 573800573800 573800573800 573800of 573800573800573800of 573800of 573800of 5738007957 of 5738005738005738005738009280 of 5738009363 of 5738009541 of 573800 573800of 573800of 573800of 57380011637 of 573800of 573800of 57380013008 of 573800573800of 573800573800573800 of 57380015127 of 573800573800of 573800573800of 57380057380018337 of 57380018586 of 57380057380057380057380019628 of 57380057380020098 of 57380020791 of 57380021124 of 57380021637 of 57380023808 of 57380023983 of 573800 57380057380025449 of 57380057380057380026814 of 573800573800of 573800of 573800of 57380027993 of 57380057380028359 of 573800573800of 573800of 57380029149 of 573800of 573800 573800of 573800573800of 573800 573800of 573800 573800of 57380033472 of 573800573800 of 57380057380035151 of 57380035314 of 573800of 573800 35660 of 57380036267 of 57380036621 of 573800of 57380037051 of 57380037142 of 573800of 57380037663 of 573800of 573800573800 of 57380038869 of 573800573800 573800of 573800573800of 57380057380057380041112 of 573800573800573800 573800 573800 573800 573800573800of 57380044872 of 57380044949 of 573800of 573800of 573800of 57380047021 of 57380047103 of 573800573800573800of 573800of 57380057380048635 of 57380048977 of 573800of 57380050097 of 573800 573800573800573800573800of 57380053209 of 573800 57380053628 of 57380054032 of 573800573800 573800573800 57380055906 of 573800of 573800of 573800573800 573800573800of 573800of 57380060771 of 57380057380061253 of 57380057380057380057380062356 of 57380063816 of 57380057380064598 of 573800of 573800of 573800of 57380066593 of 57380066932 of 573800 573800573800of 57380057380068669 of 57380068849 of 573800573800 57380057380069958 of 57380070227 of 57380070400 of 573800573800 573800 57380071808 of 573800 57380072467 of 57380072808 of 573800 57380073671 of 573800 57380074722 of 57380074903 of 573800of 573800 573800573800573800 of 573800 57380057380079345 of 57380080099 of 573800 573800of 573800of 57380081053 of 573800of 57380082495 of 573800573800of 573800 of 573800of 57380083418 of 573800of 573800573800of 573800of 57380086562 of 57380086651 of 573800of 573800573800of 57380087968 of 573800 573800of 573800of 573800of 573800 573800 573800573800of 573800of 57380057380094793 of 57380094876 of 573800573800 573800of 573800 573800573800573800573800100210 of 573800573800100807 of 573800101073 of 573800of 573800102079 of 573800102753 of 573800573800of 573800of 573800of 573800573800of 573800 573800of 573800573800 573800573800of 573800110704 of 573800of 573800573800111990 of 573800573800573800113758 of 573800573800573800114109 of 573800of 573800573800 573800of 573800115971 of 573800116205 of 573800of 573800of 573800116905 of 573800117610 of 573800of 573800 573800573800of 573800of 573800of 573800of 573800121125 of 573800of 573800of 573800573800of 573800 573800of 573800of 573800 of 573800 573800of 573800124640 of 573800of 573800573800 573800126341 of 573800126981 of 573800127336 of 573800of 573800129422 of 573800573800573800129879 of 573800130490 of 573800130722 of 573800 573800132752 of 573800573800 of 573800573800134097 of 573800 573800573800of 573800135150 of 573800573800136426 of 573800 573800573800138112 of 573800573800 573800140737 of 573800573800141261 of 573800573800of 573800of 573800 573800573800573800142305 of 573800of 573800of 573800142811 of 573800573800573800 of 573800144391 of 573800144574 of 573800573800 573800573800147042 of 573800573800573800148214 of 573800148481 of 573800573800 573800 573800of 573800573800of 573800151963 of 573800573800153571 of 573800of 573800573800573800156168 of 573800of 573800of 573800573800of 573800573800 573800of 573800 573800 573800of 573800of 573800 573800162172 of 573800573800573800162876 of 573800163443 of 573800of 573800573800165673 of 573800167173 of 573800167252 of 573800 573800 573800168357 of 573800of 573800of 573800573800573800573800 573800 573800573800172751 of 573800of 573800173736 of 573800 of 573800573800174244 of 573800573800174765 of 573800175086 of 573800of 573800573800of 573800573800176119 of 573800176208 of 573800of 573800of 573800176633 of 573800573800177410 of 573800of 573800178365 of 573800178707 of 573800573800of 573800of 573800of 573800573800of 573800180749 of 573800573800 573800 573800of 573800573800573800187244 of 573800188635 of 573800 573800188805 of 573800188893 of 573800189825 of 573800573800of 573800192399 of 573800193129 of 573800573800of 573800194353 of 573800of 573800 573800194772 of 573800of 573800573800196075 of 573800573800of 573800197287 of 573800197374 of 573800of 573800197924 of 573800573800of 573800573800199536 of 573800573800of 573800 573800 of 573800573800of 573800of 573800203975 of 573800573800573800207231 of 573800207321 of 573800208296 of 573800208739 of 573800209096 of 573800209325 of 573800209680 of 573800573800 573800211564 of 573800573800573800 573800 573800573800 573800573800of 573800573800217518 of 573800 573800of 573800573800219233 of 573800of 573800573800of 573800573800of 573800573800of 573800222390 of 573800of 573800573800223794 of 573800of 573800 573800224228 of 573800of 573800225440 of 573800225875 of 573800573800of 573800of 573800of 573800573800of 573800228703 of 573800of 573800229622 of 573800229710 of 573800573800573800573800of 573800573800of 573800232192 of 573800573800232846 of 573800573800 573800 of 573800of 573800of 573800573800573800237961 of 573800573800of 573800573800239069 of 573800573800573800573800of 573800 573800of 573800573800 of 573800573800573800of 573800of 573800573800 573800 573800of 573800573800573800573800573800of 573800573800573800573800573800573800of 573800of 573800251242 of 573800573800573800of 573800 573800573800254875 of 573800255226 of 573800of 573800of 573800573800 573800of 573800573800573800573800 573800258735 of 573800573800 573800 573800 573800259423 of 573800of 573800of 573800 of 573800573800 of 573800 573800573800573800265328 of 573800 573800573800267487 of 573800of 573800 573800269882 of 573800270650 of 573800270738 of 573800573800573800273450 of 573800573800274543 of 573800274801 of 573800573800of 573800of 573800278453 of 573800573800573800 573800280683 of 573800 573800of 573800281281 of 573800281362 of 573800281534 of 573800282413 of 573800of 573800of 573800283427 of 573800283503 of 573800573800573800 573800573800573800 573800287135 of 573800 573800573800289051 of 573800289647 of 573800 573800 of 573800573800291209 of 573800573800573800of 573800 573800295187 of 573800of 573800 573800of 573800297068 of 573800297143 of 573800297472 of 573800297910 of 573800 573800573800 573800298953 of 573800299108 of 573800299191 of 573800573800573800of 573800573800573800573800of 573800 of 573800of 573800305623 of 573800of 573800306050 of 573800306223 of 573800 573800306555 of 573800307427 of 573800573800308346 of 573800of 573800 573800of 573800 573800311428 of 573800 573800 573800 573800of 573800313032 of 573800573800314081 of 573800314428 of 573800573800 573800of 573800of 573800318008 of 573800of 573800319466 of 573800573800320524 of 573800of 573800of 573800 573800573800323557 of 573800573800of 573800326020 of 573800326778 of 573800573800573800of 573800of 573800 573800328872 of 573800329051 of 573800of 573800329639 of 573800330235 of 573800of 573800of 573800of 573800333754 of 573800of 573800of 573800of 573800of 573800573800573800573800336954 of 573800of 573800of 573800338770 of 573800573800of 573800of 573800340117 of 573800573800342027 of 573800of 573800573800of 573800343337 of 573800343590 of 573800573800573800of 573800 573800347232 of 573800of 573800347571 of 573800573800of 573800 573800573800573800350592 of 573800 573800of 573800of 573800of 573800 573800573800of 573800357031 of 573800of 573800573800573800573800 573800of 573800of 573800 573800of 573800361044 of 573800of 573800361555 of 573800of 573800573800573800 573800of 573800of 573800364253 of 573800 of 573800573800573800366658 of 573800of 573800367415 of 573800 of 573800573800368977 of 573800573800 573800of 573800 573800370920 of 573800573800of 573800of 573800372463 of 573800372983 of 573800573800of 573800373340 of 573800 573800 573800375578 of 573800of 573800573800\r"
     ]
    },
    {
     "name": "stdout",
     "output_type": "stream",
     "text": [
      "Iteration 573800 of 573800376873 of 573800377456 of 573800377691 of 573800of 573800 573800378621 of 573800378713 of 573800378965 of 573800573800573800 of 573800of 573800573800of 573800of 573800573800573800of 573800384710 of 573800 of 573800573800573800386599 of 573800 573800387407 of 573800387673 of 573800573800387850 of 573800573800of 573800573800573800391661 of 573800 573800391893 of 573800of 573800 573800573800394555 of 573800573800573800 573800 573800 573800of 573800573800396841 of 573800397098 of 573800573800397808 of 573800of 573800of 573800399304 of 573800 573800573800573800of 573800of 573800573800573800573800402576 of 573800573800402838 of 573800 573800573800404821 of 573800573800405438 of 573800of 573800573800of 573800407022 of 573800of 573800573800573800of 573800573800573800573800411497 of 573800411678 of 573800 of 573800573800of 573800of 573800412732 of 573800413235 of 573800413657 of 573800573800 573800573800 573800of 573800 573800573800573800of 573800of 573800573800573800of 573800573800573800573800of 573800of 573800423273 of 573800of 573800of 573800573800of 573800 of 573800426883 of 573800427515 of 573800 573800573800573800573800 573800573800 573800 573800 432405 of 573800432496 of 573800432847 of 573800573800433752 of 573800 of 573800573800of 573800of 573800of 573800 573800 573800 573800438034 of 573800573800438887 of 573800 of 573800573800439816 of 573800 573800573800573800of 573800441294 of 573800441376 of 573800441553 of 573800of 573800442422 of 573800442688 of 573800573800443898 of 573800444148 of 573800 573800445179 of 573800573800 573800573800446488 of 573800447061 of 573800447572 of 573800573800573800449592 of 573800573800451349 of 573800451524 of 573800451800 of 573800of 573800of 573800453889 of 573800of 573800454781 of 573800573800573800456641 of 573800of 573800457065 of 573800573800of 573800 573800573800459377 of 573800573800461390 of 573800 573800 573800573800573800464856 of 573800465205 of 573800465658 of 573800of 573800 of 573800of 573800469852 of 573800of 573800470366 of 573800573800of 573800573800of 573800of 573800of 573800476371 of 573800573800476807 of 573800477162 of 573800of 573800 573800of 573800573800573800of 573800573800of 573800of 573800 of 573800of 573800483223 of 573800of 573800573800484016 of 573800573800485912 of 573800of 573800486582 of 573800486661 of 573800573800of 573800487713 of 573800488040 of 573800488224 of 573800573800of 573800573800490061 of 573800573800 573800of 573800573800494079 of 573800573800573800of 573800573800573800496128 of 573800573800of 573800573800of 573800 573800498049 of 573800573800499468 of 573800 573800499819 of 573800500428 of 573800573800573800501365 of 573800573800of 573800502512 of 573800 573800573800504364 of 573800504713 of 573800of 573800573800507214 of 573800573800573800509926 of 573800 573800 573800of 573800 of 573800 573800573800 573800 573800573800516039 of 573800573800 573800573800573800of 573800573800573800519893 of 573800573800573800of 573800 573800 573800522073 of 573800522763 of 573800573800of 573800524216 of 573800573800524555 of 573800 573800524718 of 573800525035 of 573800of 573800526513 of 573800of 573800573800 573800of 573800573800528533 of 573800 573800of 573800529384 of 573800529700 of 573800of 573800530856 of 573800 573800of 573800573800 573800 573800of 573800532089 of 573800532323 of 573800of 573800573800533305 of 573800 573800534074 of 573800573800573800535119 of 573800 of 573800 573800of 573800573800of 573800 573800573800of 573800of 573800 of 573800 573800 573800 573800573800573800of 573800573800573800of 573800 573800573800 573800of 573800546664 of 573800 573800573800573800573800of 573800573800573800 573800551430 of 573800of 573800 of 573800552226 of 573800of 573800552762 of 573800553293 of 573800553384 of 573800553928 of 573800of 573800 of 573800of 573800573800555219 of 573800556008 of 573800573800 573800of 573800573800of 573800of 573800559412 of 573800573800573800560638 of 573800560725 of 573800of 573800 573800of 573800573800562062 of 573800573800562296 of 573800562375 of 573800of 573800 573800573800563055 of 573800573800564097 of 573800565370 of 573800 573800565791 of 573800566400 of 573800 573800of 573800 573800567971 of 573800568638 of 573800569231 of 573800of 573800573800573800 573800 of 573800572665 of 573800\r"
     ]
    }
   ],
   "source": [
    "for comb3 in comb3slist:\n",
    "    count+=1\n",
    "    print('Iteration', count, 'of', N,end='\\r')\n",
    "        \n",
    "    comb2s = combinations(comb3,2)\n",
    "    locs = [np.where((arr4 == comb2).all(axis=1)) for comb2 in comb2s]\n",
    "    #for each structure sum the paiwise distances in the tuples and collect the different values in a list\n",
    "    tuplesum.extend([np.sum([arr3[locs[p][0]][0,structure] for p in range(len(locs))]) for structure in range(arr3.shape[1])])\n",
    "    "
   ]
  },
  {
   "cell_type": "code",
   "execution_count": 40,
   "metadata": {},
   "outputs": [
    {
     "data": {
      "text/plain": [
       "Text(0.5, 1.0, 'sum of inter-chr pairwise distances in triplets of beads')"
      ]
     },
     "execution_count": 40,
     "metadata": {},
     "output_type": "execute_result"
    },
    {
     "data": {
      "image/png": "[encoded data removed]",
      "text/plain": [
       "<Figure size 432x288 with 1 Axes>"
      ]
     },
     "metadata": {
      "needs_background": "light"
     },
     "output_type": "display_data"
    }
   ],
   "source": [
    "sns.distplot(tuplesum)\n",
    "plt.title('sum of inter-chr pairwise distances in triplets of beads')"
   ]
  }
 ],
 "metadata": {
  "kernelspec": {
   "display_name": "Python 3",
   "language": "python",
   "name": "python3"
  },
  "language_info": {
   "codemirror_mode": {
    "name": "ipython",
    "version": 3
   },
   "file_extension": ".py",
   "mimetype": "text/x-python",
   "name": "python",
   "nbconvert_exporter": "python",
   "pygments_lexer": "ipython3",
   "version": "3.7.3"
  }
 },
 "nbformat": 4,
 "nbformat_minor": 2
}
