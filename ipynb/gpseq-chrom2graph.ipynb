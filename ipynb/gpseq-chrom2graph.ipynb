{
 "cells": [
  {
   "cell_type": "code",
   "execution_count": 1,
   "metadata": {},
   "outputs": [
    {
     "name": "stderr",
     "output_type": "stream",
     "text": [
      "Using numpy backend.\n"
     ]
    }
   ],
   "source": [
    "import os\n",
    "import csv\n",
    "import numpy as np\n",
    "import umap\n",
    "import networkx as nx\n",
    "import matplotlib.pyplot as plt\n",
    "import seaborn as sns; sns.set()\n",
    "from mpl_toolkits.mplot3d import Axes3D\n",
    "\n",
    "import igraph\n",
    "from igraph import *\n",
    "\n",
    "import random\n",
    "\n",
    "import tensorly as tl\n",
    "from tensorly.decomposition import non_negative_parafac\n",
    "\n",
    "import scipy.sparse\n",
    "\n",
    "'''\n",
    "Load the dataset\n",
    "'''\n",
    "path = '/home/garner1/Work/dataset/gpseq/10000G'\n",
    "files = os.listdir(path) # dir list in path with different configurations\n",
    "\n",
    "config_sample = random.sample(files, k=10) # sample k times without replacement from configurations\n",
    "\n",
    "array_list = [] #initialize array list\n",
    "for config in config_sample:\n",
    "    dirname = os.fsdecode(config)\n",
    "    if dirname.startswith(\"cf_\"): \n",
    "        print(os.path.join(path, dirname+'/coords.csv'))\n",
    "        with open(os.path.join(path, dirname+'/coords.csv'), 'r') as f:\n",
    "            XYZ = np.array(list(csv.reader(f, delimiter=',')))[:,:3].astype(np.float) # load coordinates\n",
    "            #generate the graph\n",
    "            mat = umap.umap_.fuzzy_simplicial_set(\n",
    "                    XYZ,\n",
    "                    n_neighbors=50, # this will affect sparsity of the final Hadamard graph\n",
    "                    random_state=np.random.RandomState(seed=42),\n",
    "                    metric='l2', \n",
    "                    metric_kwds={},\n",
    "                    knn_indices=None,\n",
    "                    knn_dists=None,\n",
    "                    angular=False,\n",
    "                    set_op_mix_ratio=1.0,\n",
    "                    local_connectivity=2.0,\n",
    "                    verbose=False\n",
    "                    )\n",
    "            scipy.sparse.save_npz(dirname+'_sparse_matrix.npz', mat)\n",
    "        continue\n",
    "    else:\n",
    "        continue"
   ]
  }
 ],
 "metadata": {
  "kernelspec": {
   "display_name": "Python 3",
   "language": "python",
   "name": "python3"
  },
  "language_info": {
   "codemirror_mode": {
    "name": "ipython",
    "version": 3
   },
   "file_extension": ".py",
   "mimetype": "text/x-python",
   "name": "python",
   "nbconvert_exporter": "python",
   "pygments_lexer": "ipython3",
   "version": "3.7.3"
  }
 },
 "nbformat": 4,
 "nbformat_minor": 2
}
