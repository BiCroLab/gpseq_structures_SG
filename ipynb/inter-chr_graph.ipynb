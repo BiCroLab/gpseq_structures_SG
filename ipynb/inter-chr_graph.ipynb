{
 "cells": [
  {
   "cell_type": "code",
   "execution_count": 62,
   "metadata": {},
   "outputs": [],
   "source": [
    "import os\n",
    "import csv\n",
    "import numpy as np\n",
    "import random\n",
    "import scipy.sparse\n",
    "import sys\n",
    "import tensorly as tl\n",
    "import warnings\n",
    "warnings.filterwarnings('ignore')\n",
    "\n",
    "with open('../csv/chrs.csv', newline='') as csvfile:\n",
    "    chroms = list(csv.reader(csvfile,delimiter='\\t'))\n",
    "\n",
    "filename=sys.argv[1] #'/media/garner1/hdd1/gpseq/10000G/cf_000001/coords.csv_sparse_graph.npz'\n",
    "\n",
    "with open(filename, 'rb') as f:\n",
    "    mat = scipy.sparse.load_npz(f).tocoo()  #load the graph adjacency matrix coords.csv_sparse_graph.npz\n",
    "\n",
    "    rcds = list(zip(mat.row,mat.col,mat.data))\n",
    "\n",
    "    newr = []; newc = []; newv = []\n",
    "    for rcd in rcds:\n",
    "        row = rcd[0]\n",
    "        col = rcd[1]\n",
    "        proximity = rcd[2]\n",
    "        row_chr = chroms[row][0]; col_chr = chroms[col][0] \n",
    "        if row_chr != col_chr:\n",
    "            newr.append(row)\n",
    "            newc.append(col)\n",
    "            newv.append(proximity)\n",
    "\n",
    "    newmat = scipy.sparse.coo_matrix((newv, (newr, newc)), shape=mat.shape)\n",
    "    scipy.sparse.save_npz(filename+'_interchr.npz', newmat)"
   ]
  }
 ],
 "metadata": {
  "kernelspec": {
   "display_name": "Python 3",
   "language": "python",
   "name": "python3"
  },
  "language_info": {
   "codemirror_mode": {
    "name": "ipython",
    "version": 3
   },
   "file_extension": ".py",
   "mimetype": "text/x-python",
   "name": "python",
   "nbconvert_exporter": "python",
   "pygments_lexer": "ipython3",
   "version": "3.7.3"
  }
 },
 "nbformat": 4,
 "nbformat_minor": 2
}
