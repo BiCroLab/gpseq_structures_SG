{
 "cells": [
  {
   "cell_type": "code",
   "execution_count": 275,
   "metadata": {},
   "outputs": [],
   "source": [
    "import os\n",
    "import csv\n",
    "import numpy as np\n",
    "import random\n",
    "import tensorly as tl\n",
    "from tensorly.decomposition import non_negative_parafac\n",
    "import scipy.sparse\n",
    "import sys\n",
    "import matplotlib.pyplot as plt\n",
    "import seaborn as sns; sns.set()"
   ]
  },
  {
   "cell_type": "code",
   "execution_count": 276,
   "metadata": {},
   "outputs": [],
   "source": [
    "def Qmat(S,configuration,path):\n",
    "    dirname = os.fsdecode(configuration)\n",
    "    filename = os.path.join(path, dirname+'/coords.csv_sparse_graph.npz')\n",
    "    if os.path.isfile(filename): \n",
    "        A = scipy.sparse.load_npz(filename)\n",
    "        '''construct modularity matrix'''\n",
    "        M = A\n",
    "        k = A.sum(axis=0)\n",
    "        w = A.sum(axis=None)\n",
    "        M = A - np.outer(k,k)*0.5/w\n",
    "        Q = M.shape[0]*M.shape[1]*np.trace(np.dot(np.dot(S.transpose(),M),S))/(2.0*w) #rescale by network size\n",
    "    return Q\n",
    "\n",
    "def sample_modularity(S,cf_samples,path):\n",
    "    modularity_values = []\n",
    "    for configuration in cf_samples:\n",
    "            modularity_values.append(Qmat(S,configuration,path))  \n",
    "    return modularity_values\n",
    "\n",
    "def random_community(Sp,configuration,path):\n",
    "    np.random.shuffle(Sp)\n",
    "    return Qmat(Sp,configuration,path)\n",
    "\n",
    "def membership(factors):\n",
    "    S = np.zeros(shape=factors[1][1].shape)\n",
    "    for c in range(comm):\n",
    "        vec = 0.5*(factors[1][1][:,c]+factors[1][2][:,c]) # take the average of the 2 factors, that should be identical\n",
    "        S[:,c] = vec/tl.norm(vec,1) #normalize membership\n",
    "    Sp = np.copy(S) # this copy can be used for significance testing\n",
    "    return S,Sp"
   ]
  },
  {
   "cell_type": "code",
   "execution_count": 217,
   "metadata": {},
   "outputs": [],
   "source": [
    "samples = 20 #numb of sampled 3d structured\n",
    "path = '/media/garner1/hdd1/gpseq/10000'\n",
    "configurations = os.listdir(path) \n",
    "config_sample = random.sample(configurations, k=samples) # sample k times without replacement from configurations"
   ]
  },
  {
   "cell_type": "code",
   "execution_count": 226,
   "metadata": {},
   "outputs": [],
   "source": [
    "rank = 3 # numb of components in svd. The greater this value the slower the parafac convergence \n",
    "comm = 10 # numb of communities to retrive"
   ]
  },
  {
   "cell_type": "code",
   "execution_count": 227,
   "metadata": {},
   "outputs": [
    {
     "name": "stdout",
     "output_type": "stream",
     "text": [
      "(20, 3043, 3043)\n",
      "reconstruction error=0.8126384171188588\n",
      "reconstruction error=0.8123308653401632, variation=0.0003075517786955695.\n",
      "reconstruction error=0.7291736137779663, variation=0.08315725156219689.\n",
      "reconstruction error=0.6483471686864567, variation=0.0808264450915096.\n",
      "reconstruction error=0.5530094518622528, variation=0.09533771682420389.\n",
      "reconstruction error=0.48614578809573444, variation=0.06686366376651837.\n",
      "reconstruction error=0.4438520569222931, variation=0.04229373117344132.\n",
      "reconstruction error=0.41805678657836565, variation=0.02579527034392748.\n",
      "reconstruction error=0.4012232358913235, variation=0.01683355068704212.\n",
      "reconstruction error=0.3886839890810624, variation=0.01253924681026114.\n",
      "reconstruction error=0.37880312170179914, variation=0.009880867379263247.\n",
      "reconstruction error=0.3707212992769867, variation=0.008081822424812424.\n",
      "reconstruction error=0.3639665066034362, variation=0.006754792673550503.\n",
      "reconstruction error=0.3585055531678382, variation=0.005460953435597993.\n",
      "reconstruction error=0.3540993150519832, variation=0.004406238115854999.\n",
      "reconstruction error=0.3504188192579771, variation=0.0036804957940061445.\n",
      "reconstruction error=0.34727809620488015, variation=0.0031407230530969277.\n",
      "reconstruction error=0.34459460309339834, variation=0.002683493111481805.\n",
      "reconstruction error=0.3423159974100081, variation=0.0022786056833902224.\n",
      "reconstruction error=0.34036310146342724, variation=0.0019528959465808793.\n"
     ]
    },
    {
     "data": {
      "text/plain": [
       "[(20, 10), (3043, 10), (3043, 10)]"
      ]
     },
     "execution_count": 227,
     "metadata": {},
     "output_type": "execute_result"
    }
   ],
   "source": [
    "T = np.zeros(shape = (samples, 3043, 3043), dtype = np.float32)\n",
    "graph_idx = 0\n",
    "for config in config_sample:\n",
    "    dirname = os.fsdecode(config)\n",
    "    filename = os.path.join(path, dirname+'/coords.csv_tsvd.npz')\n",
    "    if os.path.isfile(filename): \n",
    "        svd = np.load(filename)\n",
    "        u = svd['u'][:,:rank]\n",
    "        s = svd['s'][:rank]\n",
    "        vt = svd['vt'][:rank,:]\n",
    "        T[graph_idx,:,:] = np.dot(np.dot(u,np.diag(s)),vt)\n",
    "        del svd\n",
    "        continue\n",
    "    else:\n",
    "        T[graph_idx,:,:] = np.zeros(shape = (3043,3043),)\n",
    "        continue\n",
    "    graph_idx += 1\n",
    "\n",
    "print(T.shape)   \n",
    "factors = non_negative_parafac(T, rank=comm, verbose=1, n_iter_max=20,tol=1e-08,init='svd')\n",
    "[factors[1][ind].shape for ind in range(3)]"
   ]
  },
  {
   "cell_type": "code",
   "execution_count": 228,
   "metadata": {},
   "outputs": [],
   "source": [
    "S, Sp = membership(factors)"
   ]
  },
  {
   "cell_type": "code",
   "execution_count": 229,
   "metadata": {},
   "outputs": [],
   "source": [
    "h1 = sample_modularity(S,config_sample) # S on the training data"
   ]
  },
  {
   "cell_type": "code",
   "execution_count": 230,
   "metadata": {},
   "outputs": [],
   "source": [
    "h2 = sample_modularity(S,random.sample(os.listdir(path), k=100)) # S on the test data"
   ]
  },
  {
   "cell_type": "code",
   "execution_count": 231,
   "metadata": {},
   "outputs": [],
   "source": [
    "ind = 1\n",
    "h3 = [random_community(Sp,config_sample[ind]) for count in range(100)] # random S on one of the training data\n",
    "mu = np.mean(h3); sigma = np.std(h3)"
   ]
  },
  {
   "cell_type": "code",
   "execution_count": 273,
   "metadata": {},
   "outputs": [
    {
     "data": {
      "text/plain": [
       "<matplotlib.legend.Legend at 0x7efdcd9b8518>"
      ]
     },
     "execution_count": 273,
     "metadata": {},
     "output_type": "execute_result"
    },
    {
     "data": {
      "image/png": "[encoded data removed]",
      "text/plain": [
       "<Figure size 720x720 with 1 Axes>"
      ]
     },
     "metadata": {},
     "output_type": "display_data"
    }
   ],
   "source": [
    "sns.set(rc={'figure.figsize':(10,10)})\n",
    "labels = ['training data','test data', 'null model']\n",
    "histos = [h1,h2,h3]\n",
    "fig, ax = plt.subplots()\n",
    "for count in range(3):\n",
    "#     sns.distplot(histos[count], kde=False,norm_hist=True,label=labels[count],hist_kws=dict(alpha=0.7))\n",
    "    sns.distplot(histos[count], rug=True, hist=False,label=labels[count])\n",
    "    \n",
    "\n",
    "ref = Qmat(S,config_sample[ind])\n",
    "ax.axvline(ref,color='red',label='z-score: '+str(np.round((ref-mu)/sigma))) # draw a red vertical line at the value of S for the example graph\n",
    "plt.legend()\n",
    "# print('z-score is: '+str((ref-mu)/sigma))  # z-score for a random S as the null model"
   ]
  },
  {
   "cell_type": "code",
   "execution_count": null,
   "metadata": {
    "scrolled": true
   },
   "outputs": [],
   "source": [
    "for i in range(comm):\n",
    "    a = factors[1][1][:,i]\n",
    "    b = factors[1][2][:,i]\n",
    "    c = factors[1][0][:,i]\n",
    "    mat = np.outer(0.5*(a+b),0.5*(a+b)) # symmetrize wrt a & b\n",
    "    print(tl.norm(a,2)*tl.norm(b,2)*tl.norm(c,2))\n",
    "#     plt.imshow(mat, cmap='Blues', interpolation='nearest')\n",
    "    plt.figure(figsize=(10, 10))\n",
    "    sns.heatmap(mat,cmap='Blues',square=True,xticklabels=False,yticklabels=False)\n",
    "    plt.show()  \n",
    "      "
   ]
  },
  {
   "cell_type": "code",
   "execution_count": null,
   "metadata": {},
   "outputs": [],
   "source": [
    "ind = 3\n",
    "dirname = os.fsdecode(config_sample[ind])\n",
    "filename = os.path.join(path, dirname+'/coords.csv_sparse_graph.npz')\n",
    "A = scipy.sparse.load_npz(filename).todense()\n",
    "sns.heatmap(A,cmap='Blues',square=True,xticklabels=False,yticklabels=False)"
   ]
  },
  {
   "cell_type": "code",
   "execution_count": null,
   "metadata": {
    "scrolled": false
   },
   "outputs": [],
   "source": [
    "for i in range(comm):\n",
    "    mat = np.outer(S[:,i],S[:,i]) # symmetrize wrt a & b\n",
    "    plt.figure(figsize=(10, 10))\n",
    "    sns.heatmap(np.round(mat.shape[0]*mat.shape[1]*np.multiply(mat,A),decimals=3),square=True,xticklabels=False,yticklabels=False)\n",
    "    plt.show()  "
   ]
  }
 ],
 "metadata": {
  "kernelspec": {
   "display_name": "Python 3",
   "language": "python",
   "name": "python3"
  },
  "language_info": {
   "codemirror_mode": {
    "name": "ipython",
    "version": 3
   },
   "file_extension": ".py",
   "mimetype": "text/x-python",
   "name": "python",
   "nbconvert_exporter": "python",
   "pygments_lexer": "ipython3",
   "version": "3.7.3"
  }
 },
 "nbformat": 4,
 "nbformat_minor": 2
}
