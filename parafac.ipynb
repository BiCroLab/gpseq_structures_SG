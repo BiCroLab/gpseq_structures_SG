{
 "cells": [
  {
   "cell_type": "code",
   "execution_count": 130,
   "metadata": {},
   "outputs": [
    {
     "name": "stdout",
     "output_type": "stream",
     "text": [
      "reconstruction error=0.9809717362109653, variation=0.003642884822525394.\n",
      "reconstruction error=0.9784894253252459, variation=0.0024823108857194853.\n",
      "reconstruction error=0.9768252578274755, variation=0.0016641674977703191.\n",
      "reconstruction error=0.9758903125285313, variation=0.0009349452989442231.\n",
      "converged in 5 iterations.\n"
     ]
    }
   ],
   "source": [
    "import os\n",
    "import csv\n",
    "import numpy as np\n",
    "import random\n",
    "import tensorly as tl\n",
    "from tensorly.decomposition import non_negative_parafac\n",
    "import scipy.sparse\n",
    "import sys\n",
    "\n",
    "path = '/home/garner1/Work/dataset/gpseq/10000'\n",
    "files = os.listdir(path) # dir list in path with different configurations\n",
    "\n",
    "samples = sys.argv[1] \n",
    "rank = sys.argv[2] \n",
    "\n",
    "config_sample = random.sample(files, k=samples) # sample k times without replacement from configurations\n",
    "\n",
    "array_list = [] #initialize array list\n",
    "for config in config_sample:\n",
    "    dirname = os.fsdecode(config)\n",
    "    filename = os.path.join(path, dirname+'/coords.csv_sparse_graph.npz')\n",
    "    if os.path.isfile(filename): \n",
    "        with open(filename, 'r') as f:\n",
    "            mat = scipy.sparse.load_npz(filename)\n",
    "            array_list.append(mat.todense())  # densify the sparse mat and add to list\n",
    "        continue\n",
    "    else:\n",
    "        continue\n",
    "\n",
    "T = np.array(array_list) # the final tensor kXnodesXnodes\n",
    "factors = non_negative_parafac(T, rank=100, verbose=1, tol=1e-03)"
   ]
  }
 ],
 "metadata": {
  "kernelspec": {
   "display_name": "Python 3",
   "language": "python",
   "name": "python3"
  },
  "language_info": {
   "codemirror_mode": {
    "name": "ipython",
    "version": 3
   },
   "file_extension": ".py",
   "mimetype": "text/x-python",
   "name": "python",
   "nbconvert_exporter": "python",
   "pygments_lexer": "ipython3",
   "version": "3.7.3"
  }
 },
 "nbformat": 4,
 "nbformat_minor": 2
}
